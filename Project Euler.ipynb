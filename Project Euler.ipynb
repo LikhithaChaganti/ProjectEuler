{
 "cells": [
  {
   "cell_type": "markdown",
   "metadata": {},
   "source": [
    "## Problem 1"
   ]
  },
  {
   "cell_type": "markdown",
   "metadata": {},
   "source": [
    "#### Find the sum of all multiples of 3 or 5 below 1000"
   ]
  },
  {
   "cell_type": "code",
   "execution_count": 1,
   "metadata": {},
   "outputs": [
    {
     "name": "stdout",
     "output_type": "stream",
     "text": [
      "233168\n"
     ]
    }
   ],
   "source": [
    "a=1\n",
    "s=0\n",
    "while (a<1000):\n",
    "    if a%3==0 or a%5==0:\n",
    "        s+=a;\n",
    "    a+=1;\n",
    "print(s)"
   ]
  },
  {
   "cell_type": "markdown",
   "metadata": {},
   "source": [
    "## Problem 2"
   ]
  },
  {
   "cell_type": "markdown",
   "metadata": {},
   "source": [
    "#### By considering the terms in the Fibonacci sequence whose values do not exceed four million, find the sum of the even-valued terms"
   ]
  },
  {
   "cell_type": "code",
   "execution_count": 2,
   "metadata": {},
   "outputs": [
    {
     "name": "stdout",
     "output_type": "stream",
     "text": [
      "4613732\n"
     ]
    }
   ],
   "source": [
    "t1=1\n",
    "t2=2\n",
    "s=2\n",
    "t3=0\n",
    "while (s<4000000):\n",
    "    t3=t1+t2\n",
    "    t1=t2\n",
    "    t2=t3\n",
    "    if t2%2==0:\n",
    "        s+=t2;\n",
    "print(s) "
   ]
  },
  {
   "cell_type": "markdown",
   "metadata": {},
   "source": [
    "## Problem 3"
   ]
  },
  {
   "cell_type": "markdown",
   "metadata": {},
   "source": [
    "#### What is the largest prime factor of the number 600851475143 ?"
   ]
  },
  {
   "cell_type": "code",
   "execution_count": 3,
   "metadata": {},
   "outputs": [
    {
     "name": "stdout",
     "output_type": "stream",
     "text": [
      "6857\n"
     ]
    }
   ],
   "source": [
    "import math\n",
    "n=600851475143\n",
    "c=2\n",
    "lpf=0\n",
    "while (c<math.ceil(math.sqrt(n))):\n",
    "    if(n%c==0):\n",
    "        d=0\n",
    "        for i in range(1,c):\n",
    "            if c%i==0:\n",
    "                d+=1;\n",
    "        if d==1:\n",
    "            lpf=c;\n",
    "    c+=1\n",
    "print(lpf)"
   ]
  },
  {
   "cell_type": "markdown",
   "metadata": {},
   "source": [
    "#### Problem 4"
   ]
  },
  {
   "cell_type": "markdown",
   "metadata": {},
   "source": [
    "#### Find the largest palindrome made from the product of two 3-digit numbers."
   ]
  },
  {
   "cell_type": "code",
   "execution_count": 4,
   "metadata": {},
   "outputs": [],
   "source": [
    "def isPalindrome(p):\n",
    "    s=str(p)\n",
    "    l=len(s)\n",
    "    fh=s[:int(l/2)]\n",
    "    sh=s[-int(l/2):]\n",
    "    if fh==sh[::-1]:\n",
    "        return True\n",
    "    else:\n",
    "        return False"
   ]
  },
  {
   "cell_type": "code",
   "execution_count": 5,
   "metadata": {},
   "outputs": [
    {
     "name": "stdout",
     "output_type": "stream",
     "text": [
      "906609\n"
     ]
    }
   ],
   "source": [
    "lp=0\n",
    "for a in range(100,1000):\n",
    "    for b in range(a,1000):\n",
    "        p=a*b;\n",
    "        if isPalindrome(p)==True:\n",
    "            if p>lp:\n",
    "                lp=p\n",
    "print(lp)       "
   ]
  },
  {
   "cell_type": "code",
   "execution_count": null,
   "metadata": {},
   "outputs": [],
   "source": []
  },
  {
   "cell_type": "code",
   "execution_count": null,
   "metadata": {},
   "outputs": [],
   "source": []
  },
  {
   "cell_type": "code",
   "execution_count": null,
   "metadata": {},
   "outputs": [],
   "source": []
  },
  {
   "cell_type": "code",
   "execution_count": null,
   "metadata": {},
   "outputs": [],
   "source": []
  },
  {
   "cell_type": "code",
   "execution_count": null,
   "metadata": {},
   "outputs": [],
   "source": []
  }
 ],
 "metadata": {
  "kernelspec": {
   "display_name": "Python 3",
   "language": "python",
   "name": "python3"
  },
  "language_info": {
   "codemirror_mode": {
    "name": "ipython",
    "version": 3
   },
   "file_extension": ".py",
   "mimetype": "text/x-python",
   "name": "python",
   "nbconvert_exporter": "python",
   "pygments_lexer": "ipython3",
   "version": "3.7.1"
  }
 },
 "nbformat": 4,
 "nbformat_minor": 2
}
